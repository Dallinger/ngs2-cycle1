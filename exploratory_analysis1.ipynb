{
  "cells": [
    {
      "cell_type": "markdown",
      "source": [
        "# NGS2 Cycle 1: data"
      ],
      "metadata": {}
    },
    {
      "cell_type": "code",
      "source": [
        "import matplotlib.pyplot as plt\n",
        "import numpy as np"
      ],
      "outputs": [],
      "execution_count": 66,
      "metadata": {
        "collapsed": false,
        "outputHidden": false,
        "inputHidden": false
      }
    },
    {
      "cell_type": "code",
      "source": [
        "ingroup = np.array([1, 1047, 114, 117, 1272, 42, 654, 5, 2471, 40, 0, 103, 211, 10, 48, 1984, 82, 1126, 151, 643, 18, 439, 223, 889, 0, 70, 492, 1261, 28, 912, 0, 267, 0, 1762, 41, 557, 63, 793, 8, 14, 27, 10, 219, 11, 56, 7, 39, 0, 21, 4, 1271, 124, 1899, 41, 4461, 105, 3668, 1193, 5624, 1845, 112, 0, 4137, 2, 3, 21, 383, 117, 79, 108, 83, 19, 93, 0, 75, 5, 0, 103, 35, 1, 23, 0, 174, 2, 6, 1995, 1682, 1, 828, 78, 88, 0, 132, 1, 2081, 7, 1049, 14, 0, 395, 0, 497, 463, 0])\n",
        "\n\n",
        "public = np.array([0, 222, 277, 105, 78, 3, 232, 4, 99, 16, 0, 17, 660, 9, 14, 189, 106, 408, 95, 77, 38, 924, 403, 266, 2, 389, 85, 344, 5, 31, 0, 47, 0, 60, 0, 20, 64, 10, 9, 4, 8, 3, 0, 36, 73, 6, 12, 0, 2, 6, 13, 2, 85, 10, 76, 1, 53, 74, 2, 602, 13, 0, 65, 1, 0, 1, 201, 16, 45, 109, 29, 6, 173, 0, 27, 20, 0, 36, 14, 1, 6, 0, 13, 2, 13, 566, 7, 0, 283, 2, 1, 1773, 43, 0, 104, 7, 57, 23, 0, 128, 0, 46, 32, 0])\n",
        "\n",
        "plt.scatter(np.log2(1+ingroup), np.log2(1+public), color=\"black\")\n",
        "plt.gca().spines['right'].set_visible(False)\n",
        "plt.gca().spines['top'].set_visible(False)\n",
        "plt.xlabel(\"Log$_2$ ingroup contributions\")\n",
        "plt.ylabel(\"Log$_2$ public contributions\")\n",
        "plt.plot(np.linspace(-4, 14, 100), np.linspace(-4, 14, 100), '--', color=\"black\", label='$y=x$')\n",
        "# plt.gca().set_aspect('equal', 'datalim')\n",
        "plt.gca().set_xlim([-5, 15])\n",
        "plt.gca().set_xticks(np.linspace(-5, 15, 5))\n",
        "plt.gca().set_yticks(np.linspace(-5, 15, 5))\n",
        "plt.gca().set_ylim([-5, 15])\n",
        "plt.gca().set_aspect(1)\n",
        "plt.legend(frameon=False)\n",
        "plt.savefig(\"in-v-public.pdf\", bbox_inches='tight')\n",
        "plt.show()"
      ],
      "outputs": [
        {
          "output_type": "display_data",
          "data": {
            "image/png": "[encoded data removed]",
            "text/plain": [
              "<matplotlib.figure.Figure at 0x108a13c10>"
            ]
          },
          "metadata": {}
        }
      ],
      "execution_count": 75,
      "metadata": {
        "collapsed": false,
        "outputHidden": false,
        "inputHidden": false
      }
    },
    {
      "cell_type": "code",
      "source": [
        "np.corrcoef(ingroup, public)"
      ],
      "outputs": [
        {
          "output_type": "execute_result",
          "execution_count": 51,
          "data": {
            "text/plain": [
              "array([[ 1.        ,  0.08744823],\n",
              "       [ 0.08744823,  1.        ]])"
            ]
          },
          "metadata": {}
        }
      ],
      "execution_count": 51,
      "metadata": {
        "collapsed": false,
        "outputHidden": false,
        "inputHidden": false
      }
    },
    {
      "cell_type": "code",
      "source": [],
      "outputs": [],
      "execution_count": 45,
      "metadata": {
        "collapsed": false,
        "outputHidden": false,
        "inputHidden": false
      }
    },
    {
      "cell_type": "code",
      "source": [],
      "outputs": [],
      "execution_count": null,
      "metadata": {
        "collapsed": false,
        "outputHidden": false,
        "inputHidden": false
      }
    }
  ],
  "metadata": {
    "kernelspec": {
      "name": "python2",
      "language": "python",
      "display_name": "Python 2"
    },
    "kernel_info": {
      "name": "python2"
    },
    "language_info": {
      "mimetype": "text/x-python",
      "nbconvert_exporter": "python",
      "name": "python",
      "pygments_lexer": "ipython2",
      "version": "2.7.13",
      "file_extension": ".py",
      "codemirror_mode": {
        "version": 2,
        "name": "ipython"
      }
    }
  },
  "nbformat": 4,
  "nbformat_minor": 4
}