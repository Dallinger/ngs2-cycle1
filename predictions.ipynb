{
  "cells": [
    {
      "cell_type": "markdown",
      "source": [
        "# NGS2 Cycle 1: predictions"
      ],
      "metadata": {}
    },
    {
      "cell_type": "code",
      "source": [
        "import math\n",
        "\n",
        "import matplotlib.pyplot as plt\n",
        "import numpy as np\n",
        "import pandas as pd"
      ],
      "outputs": [],
      "execution_count": 1,
      "metadata": {
        "collapsed": false,
        "outputHidden": false,
        "inputHidden": false
      }
    },
    {
      "cell_type": "markdown",
      "source": [
        "We begin with the data produced by the simulations:"
      ],
      "metadata": {}
    },
    {
      "cell_type": "code",
      "source": [
        "data = {\n",
        "    \"control\": (14, 52),  # (public, ingroup)\n",
        "    \"intergroup_competition\": (15, 55),\n",
        "    \"intragroup_competition\": (11, 54),\n",
        "    \"identity_selection\": (13, 50),\n",
        "    \"relative_deprivation\": (16, 52),\n",
        "    \"population_size\": (36, 56),\n",
        "    \"rounds\": (50, 50),\n",
        "    \"interpersonal_communication\": (14, 52),\n",
        "    \"identity_signaling\": (14, 52),\n",
        "    \"scarcity\": (14, 52),\n",
        "}"
      ],
      "outputs": [],
      "execution_count": 2,
      "metadata": {
        "collapsed": false,
        "outputHidden": false,
        "inputHidden": false
      }
    },
    {
      "cell_type": "markdown",
      "source": [
        "## Predictions 1: Ingroup vs. public resource contributions\n",
        "\nFirst, we do a bit of preprocessing:"
      ],
      "metadata": {}
    },
    {
      "cell_type": "code",
      "source": [
        "import pprint \n",
        "results = {}\n",
        "for condition in data:\n",
        "    ratio = float(data[condition][1]) / float(data[condition][0])\n",
        "    results[condition] = math.log(ratio, 2)\n",
        "   \n",
        "pprint.pprint(results, indent=4)"
      ],
      "outputs": [
        {
          "output_type": "stream",
          "name": "stdout",
          "text": [
            "{   'control': 1.893084796083488,\n",
            "    'identity_selection': 1.9434164716336328,\n",
            "    'identity_signaling': 1.893084796083488,\n",
            "    'intergroup_competition': 1.8744691179161412,\n",
            "    'interpersonal_communication': 1.893084796083488,\n",
            "    'intragroup_competition': 2.2954558835261714,\n",
            "    'population_size': 0.6374299206152918,\n",
            "    'relative_deprivation': 1.7004397181410922,\n",
            "    'rounds': 0.0,\n",
            "    'scarcity': 1.893084796083488}\n"
          ]
        }
      ],
      "execution_count": 3,
      "metadata": {
        "collapsed": false,
        "outputHidden": false,
        "inputHidden": false
      }
    },
    {
      "cell_type": "markdown",
      "source": [
        "Next we import plotting tools:"
      ],
      "metadata": {}
    },
    {
      "cell_type": "code",
      "source": [
        "import os \n",
        "import warnings\n",
        "import matplotlib.cbook\n",
        "\n",
        "warnings.filterwarnings(\"ignore\",category=matplotlib.cbook.mplDeprecation)\n",
        "\n",
        "def print_conditions(results):\n",
        "    for cnd in enumerate(sorted(results.iterkeys())):\n",
        "        print(cnd)\n",
        "    \n",
        "def plot_contributions(results):\n",
        "    fig, ax = plt.subplots()\n",
        "    means = [results[cnd] for cnd in sorted(results.iterkeys())]\n",
        "    idxs = np.arange(len(results))\n",
        "    rects1 = ax.bar(idxs, means, 0.85, color='k')\n",
        "    ax.set_ylim([-3, 3])\n",
        "    plt.axhline(y=0, color='k', linestyle='-')\n",
        "    ax.spines['right'].set_visible(False)\n",
        "    ax.spines['top'].set_visible(False)\n",
        "    ax.spines['bottom'].set_position('center')\n",
        "    ax.set_xticks(idxs)\n",
        "    plt.ylabel(\"Log$_2$ ratio of ingroup:outgroup contributions\")\n",
        "    handles, labels = ax.get_legend_handles_labels()\n",
        "    ax.legend(handles, (cnd for cnd in sorted(results.iterkeys())))\n",
        "    fig.savefig(\"contributions.pdf\", bbox_inches='tight')\n",
        "    plt.show()"
      ],
      "outputs": [],
      "execution_count": 4,
      "metadata": {
        "collapsed": false,
        "outputHidden": false,
        "inputHidden": false
      }
    },
    {
      "cell_type": "markdown",
      "source": [
        "Now we plot the predictions:"
      ],
      "metadata": {}
    },
    {
      "cell_type": "code",
      "source": [
        "plot_contributions(results)\n",
        "print_conditions(results)"
      ],
      "outputs": [
        {
          "output_type": "display_data",
          "data": {
            "image/png": "[encoded data removed]",
            "text/plain": [
              "<matplotlib.figure.Figure at 0x109ef2190>"
            ]
          },
          "metadata": {}
        },
        {
          "output_type": "stream",
          "name": "stdout",
          "text": [
            "(0, 'control')\n",
            "(1, 'identity_selection')\n",
            "(2, 'identity_signaling')\n",
            "(3, 'intergroup_competition')\n",
            "(4, 'interpersonal_communication')\n",
            "(5, 'intragroup_competition')\n",
            "(6, 'population_size')\n",
            "(7, 'relative_deprivation')\n",
            "(8, 'rounds')\n",
            "(9, 'scarcity')\n"
          ]
        }
      ],
      "execution_count": 5,
      "metadata": {
        "collapsed": false,
        "outputHidden": false,
        "inputHidden": false
      }
    },
    {
      "cell_type": "markdown",
      "source": [
        "## Predictions 2: DIFI"
      ],
      "metadata": {}
    },
    {
      "cell_type": "code",
      "source": [
        "def ratio2difi(ratio, mn=-100, mx=125):\n",
        "    return mn + (mx - mn) * (1.0 / (1 + math.exp(-ratio)))\n",
        "\n",
        "def plot_difi(results):\n",
        "    fig, ax = plt.subplots()\n",
        "    means = [results[cnd] for cnd in sorted(results.iterkeys())]\n",
        "    idxs = np.arange(len(results))\n",
        "    rects1 = ax.bar(idxs, means, 0.85, color='k')\n",
        "    ax.set_ylim([-100, 125])\n",
        "    plt.axhline(y=0, color='k', linestyle='-')\n",
        "    ax.spines['right'].set_visible(False)\n",
        "    ax.spines['top'].set_visible(False)\n",
        "    ax.set_xticks(idxs)\n",
        "    plt.ylabel(\"DIFI Distance\")\n",
        "    fig.savefig(\"difi.pdf\", bbox_inches='tight')\n",
        "    plt.show()"
      ],
      "outputs": [],
      "execution_count": 6,
      "metadata": {
        "collapsed": false,
        "outputHidden": false,
        "inputHidden": false
      }
    },
    {
      "cell_type": "code",
      "source": [
        "import pprint \n",
        "results = {}\n",
        "for condition in data:\n",
        "    ratio = float(data[condition][1]) / float(data[condition][0])\n",
        "    results[condition] = ratio2difi(math.log(ratio, 2))\n",
        "   \n",
        "pprint.pprint(results, indent=4)"
      ],
      "outputs": [
        {
          "output_type": "stream",
          "name": "stdout",
          "text": [
            "{   'control': 95.54904284919098,\n",
            "    'identity_selection': 96.81357474849548,\n",
            "    'identity_signaling': 95.54904284919098,\n",
            "    'intergroup_competition': 95.0692726850589,\n",
            "    'interpersonal_communication': 95.54904284919098,\n",
            "    'intragroup_competition': 104.41249940094565,\n",
            "    'population_size': 47.18875845708433,\n",
            "    'relative_deprivation': 90.25823507916226,\n",
            "    'rounds': 12.5,\n",
            "    'scarcity': 95.54904284919098}\n"
          ]
        }
      ],
      "execution_count": 7,
      "metadata": {
        "collapsed": false,
        "outputHidden": false,
        "inputHidden": false
      }
    },
    {
      "cell_type": "code",
      "source": [
        "plot_difi(results)\n",
        "print_conditions(results)"
      ],
      "outputs": [
        {
          "output_type": "display_data",
          "data": {
            "image/png": "[encoded data removed]",
            "text/plain": [
              "<matplotlib.figure.Figure at 0x10a107950>"
            ]
          },
          "metadata": {}
        },
        {
          "output_type": "stream",
          "name": "stdout",
          "text": [
            "(0, 'control')\n",
            "(1, 'identity_selection')\n",
            "(2, 'identity_signaling')\n",
            "(3, 'intergroup_competition')\n",
            "(4, 'interpersonal_communication')\n",
            "(5, 'intragroup_competition')\n",
            "(6, 'population_size')\n",
            "(7, 'relative_deprivation')\n",
            "(8, 'rounds')\n",
            "(9, 'scarcity')\n"
          ]
        }
      ],
      "execution_count": 8,
      "metadata": {}
    },
    {
      "cell_type": "markdown",
      "source": [
        "## Predictions 3: Leach et al. (2008) survey\n",
        "\nPredictons for the Leach et al. (2008) survey:"
      ],
      "metadata": {}
    },
    {
      "cell_type": "code",
      "source": [
        "def ratio2leach(ratio, mn=1, mx=7):\n",
        "    return mn + (mx - mn) * (1.0 / (1 + math.exp(-0.5 * ratio)))\n",
        "\n\n",
        "def plot_leach(results):\n",
        "    fig, ax = plt.subplots()\n",
        "    means = [results[cnd] for cnd in sorted(results.iterkeys())]\n",
        "    idxs = np.arange(len(results))\n",
        "    rects1 = ax.bar(idxs, means, 0.85, color='k')\n",
        "    ax.set_ylim([1, 7])\n",
        "    plt.axhline(y=0, color='k', linestyle='-')\n",
        "    ax.spines['right'].set_visible(False)\n",
        "    ax.spines['top'].set_visible(False)\n",
        "    ax.set_xticks(idxs)\n",
        "    plt.ylabel(\"Average Leach et al. (2008) survey response\")\n",
        "    fig.savefig(\"leach.pdf\", bbox_inches='tight')\n",
        "    plt.show()"
      ],
      "outputs": [],
      "execution_count": 9,
      "metadata": {}
    },
    {
      "cell_type": "code",
      "source": [
        "import pprint \n",
        "results = {}\n",
        "for condition in data:\n",
        "    ratio = float(data[condition][1]) / float(data[condition][0])\n",
        "    results[condition] = ratio2leach(math.log(ratio, 2))\n",
        "   \n",
        "pprint.pprint(results, indent=4)"
      ],
      "outputs": [
        {
          "output_type": "stream",
          "name": "stdout",
          "text": [
            "{   'control': 5.322515770056516,\n",
            "    'identity_selection': 5.352759126720151,\n",
            "    'identity_signaling': 5.322515770056516,\n",
            "    'intergroup_competition': 5.311244277401545,\n",
            "    'interpersonal_communication': 5.322515770056516,\n",
            "    'intragroup_competition': 5.554574029438703,\n",
            "    'population_size': 4.474066277469712,\n",
            "    'relative_deprivation': 5.203679565385935,\n",
            "    'rounds': 4.0,\n",
            "    'scarcity': 5.322515770056516}\n"
          ]
        }
      ],
      "execution_count": 10,
      "metadata": {}
    },
    {
      "cell_type": "code",
      "source": [
        "plot_leach(results)\n",
        "print_conditions(results)"
      ],
      "outputs": [
        {
          "output_type": "display_data",
          "data": {
            "image/png": "[encoded data removed]",
            "text/plain": [
              "<matplotlib.figure.Figure at 0x10a1e3410>"
            ]
          },
          "metadata": {}
        },
        {
          "output_type": "stream",
          "name": "stdout",
          "text": [
            "(0, 'control')\n",
            "(1, 'identity_selection')\n",
            "(2, 'identity_signaling')\n",
            "(3, 'intergroup_competition')\n",
            "(4, 'interpersonal_communication')\n",
            "(5, 'intragroup_competition')\n",
            "(6, 'population_size')\n",
            "(7, 'relative_deprivation')\n",
            "(8, 'rounds')\n",
            "(9, 'scarcity')\n"
          ]
        }
      ],
      "execution_count": 11,
      "metadata": {}
    },
    {
      "cell_type": "code",
      "source": [],
      "outputs": [],
      "execution_count": null,
      "metadata": {
        "collapsed": false,
        "outputHidden": false,
        "inputHidden": false
      }
    }
  ],
  "metadata": {
    "kernelspec": {
      "name": "python2",
      "language": "python",
      "display_name": "Python 2"
    },
    "kernel_info": {
      "name": "python2"
    },
    "language_info": {
      "mimetype": "text/x-python",
      "nbconvert_exporter": "python",
      "name": "python",
      "pygments_lexer": "ipython2",
      "version": "2.7.13",
      "file_extension": ".py",
      "codemirror_mode": {
        "version": 2,
        "name": "ipython"
      }
    }
  },
  "nbformat": 4,
  "nbformat_minor": 4
}