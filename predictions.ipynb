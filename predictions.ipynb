{
  "cells": [
    {
      "cell_type": "markdown",
      "source": [
        "# NGS2 Cycle 1: predictions"
      ],
      "metadata": {}
    },
    {
      "cell_type": "code",
      "source": [
        "import math\n",
        "\n",
        "import matplotlib.pyplot as plt\n",
        "import numpy as np\n",
        "import pandas as pd"
      ],
      "outputs": [],
      "execution_count": 1,
      "metadata": {
        "collapsed": false,
        "outputHidden": false,
        "inputHidden": false
      }
    },
    {
      "cell_type": "markdown",
      "source": [
        "We begin with the data produced by the simulations:"
      ],
      "metadata": {}
    },
    {
      "cell_type": "code",
      "source": [
        "data = {\n",
        "    \"control\": (14, 52),  # (public, ingroup)\n",
        "    \"intergroup_competition\": (15, 55),\n",
        "    \"intragroup_competition\": (11, 54),\n",
        "    \"identity_selection\": (13, 50),\n",
        "    \"relative_deprivation\": (16, 52),\n",
        "    \"population_size\": (36, 56),\n",
        "    \"rounds\": (50, 50),\n",
        "    \"interpersonal_communication\": (14, 52),\n",
        "    \"identity_signaling\": (14, 52),\n",
        "    \"scarcity\": (14, 52),\n",
        "}"
      ],
      "outputs": [],
      "execution_count": 2,
      "metadata": {
        "collapsed": false,
        "outputHidden": false,
        "inputHidden": false
      }
    },
    {
      "cell_type": "markdown",
      "source": [
        "## Predictions 1: Ingroup vs. public resource contributions\n",
        "\nFirst, we do a bit of preprocessing:"
      ],
      "metadata": {}
    },
    {
      "cell_type": "code",
      "source": [
        "import pprint \n",
        "results = {}\n",
        "for condition in data:\n",
        "    ratio = float(data[condition][1]) / float(100 - data[condition][1])\n",
        "    results[condition] = math.log(ratio, 2)\n",
        "   \n",
        "pprint.pprint(results, indent=4)"
      ],
      "outputs": [
        {
          "output_type": "stream",
          "name": "stdout",
          "text": [
            "{   'control': 0.11547721741993588,\n",
            "    'identity_selection': 0.0,\n",
            "    'identity_signaling': 0.11547721741993588,\n",
            "    'intergroup_competition': 0.28950661719498505,\n",
            "    'interpersonal_communication': 0.11547721741993588,\n",
            "    'intragroup_competition': 0.2313255461064558,\n",
            "    'population_size': 0.3479233034203068,\n",
            "    'relative_deprivation': 0.11547721741993588,\n",
            "    'rounds': 0.0,\n",
            "    'scarcity': 0.11547721741993588}\n"
          ]
        }
      ],
      "execution_count": 3,
      "metadata": {
        "collapsed": false,
        "outputHidden": false,
        "inputHidden": false
      }
    },
    {
      "cell_type": "markdown",
      "source": [
        "Next we import plotting tools:"
      ],
      "metadata": {}
    },
    {
      "cell_type": "code",
      "source": [
        "import os \n",
        "import warnings\n",
        "import matplotlib.cbook\n",
        "\n",
        "warnings.filterwarnings(\"ignore\",category=matplotlib.cbook.mplDeprecation)\n",
        "\n",
        "def print_conditions(results):\n",
        "    for cnd in enumerate(sorted(results.iterkeys())):\n",
        "        print(cnd)\n",
        "    \n",
        "def plot_contributions(results):\n",
        "    fig, ax = plt.subplots()\n",
        "    means = [results[cnd] for cnd in sorted(results.iterkeys())]\n",
        "    idxs = np.arange(len(results))\n",
        "    rects1 = ax.bar(idxs, means, 0.85, color='k')\n",
        "    ax.set_ylim([-6, 6])\n",
        "    plt.axhline(y=0, color='k', linestyle='-')\n",
        "    ax.spines['right'].set_visible(False)\n",
        "    ax.spines['top'].set_visible(False)\n",
        "    ax.spines['bottom'].set_position('center')\n",
        "    ax.set_xticks(idxs)\n",
        "    plt.ylabel(\"Log$_2$ ratio of ingroup:outgroup contributions\")\n",
        "    handles, labels = ax.get_legend_handles_labels()\n",
        "    fig.savefig(\"contributions.pdf\", bbox_inches='tight')\n",
        "    plt.show()"
      ],
      "outputs": [],
      "execution_count": 4,
      "metadata": {
        "collapsed": false,
        "outputHidden": false,
        "inputHidden": false
      }
    },
    {
      "cell_type": "markdown",
      "source": [
        "Now we plot the predictions:"
      ],
      "metadata": {}
    },
    {
      "cell_type": "code",
      "source": [
        "plot_contributions(results)\n",
        "print_conditions(results)"
      ],
      "outputs": [
        {
          "output_type": "display_data",
          "data": {
            "image/png": "[encoded data removed]",
            "text/plain": [
              "<matplotlib.figure.Figure at 0x111fd3250>"
            ]
          },
          "metadata": {}
        },
        {
          "output_type": "stream",
          "name": "stdout",
          "text": [
            "(0, 'control')\n",
            "(1, 'identity_selection')\n",
            "(2, 'identity_signaling')\n",
            "(3, 'intergroup_competition')\n",
            "(4, 'interpersonal_communication')\n",
            "(5, 'intragroup_competition')\n",
            "(6, 'population_size')\n",
            "(7, 'relative_deprivation')\n",
            "(8, 'rounds')\n",
            "(9, 'scarcity')\n"
          ]
        }
      ],
      "execution_count": 5,
      "metadata": {
        "collapsed": false,
        "outputHidden": false,
        "inputHidden": false
      }
    },
    {
      "cell_type": "markdown",
      "source": [
        "u## Predictions 2: DIFI"
      ],
      "metadata": {}
    },
    {
      "cell_type": "code",
      "source": [
        "def ratio2difi(ratio, mn=-100, mx=125):\n",
        "    return mn + (mx - mn) * (1.0 / (1 + math.exp(-ratio)))\n",
        "\n",
        "def plot_difi(results):\n",
        "    fig, ax = plt.subplots()\n",
        "    means = [results[cnd] for cnd in sorted(results.iterkeys())]\n",
        "    idxs = np.arange(len(results))\n",
        "    rects1 = ax.bar(idxs, means, 0.85, color='k')\n",
        "    ax.set_ylim([-100, 125])\n",
        "    plt.axhline(y=0, color='k', linestyle='-')\n",
        "    ax.spines['right'].set_visible(False)\n",
        "    ax.spines['top'].set_visible(False)\n",
        "    ax.set_xticks(idxs)\n",
        "    plt.ylabel(\"DIFI Distance\")\n",
        "    fig.savefig(\"difi.pdf\", bbox_inches='tight')\n",
        "    plt.show()"
      ],
      "outputs": [],
      "execution_count": 6,
      "metadata": {
        "collapsed": false,
        "outputHidden": false,
        "inputHidden": false
      }
    },
    {
      "cell_type": "code",
      "source": [
        "import pprint \n",
        "results = {}\n",
        "for condition in data:\n",
        "    ratio = float(data[condition][1]) / float(100 - data[condition][1])\n",
        "    results[condition] = ratio2difi(math.log(ratio, 2))\n",
        "   \n",
        "pprint.pprint(results, indent=4)"
      ],
      "outputs": [
        {
          "output_type": "stream",
          "name": "stdout",
          "text": [
            "{   'control': 18.98838487077039,\n",
            "    'identity_selection': 12.5,\n",
            "    'identity_signaling': 18.98838487077039,\n",
            "    'intergroup_competition': 28.671951581829774,\n",
            "    'interpersonal_communication': 18.98838487077039,\n",
            "    'intragroup_competition': 25.454346206092694,\n",
            "    'population_size': 31.875626371770352,\n",
            "    'relative_deprivation': 18.98838487077039,\n",
            "    'rounds': 12.5,\n",
            "    'scarcity': 18.98838487077039}\n"
          ]
        }
      ],
      "execution_count": 7,
      "metadata": {
        "collapsed": false,
        "outputHidden": false,
        "inputHidden": false
      }
    },
    {
      "cell_type": "code",
      "source": [
        "plot_difi(results)\n",
        "print_conditions(results)"
      ],
      "outputs": [
        {
          "output_type": "display_data",
          "data": {
            "image/png": "[encoded data removed]",
            "text/plain": [
              "<matplotlib.figure.Figure at 0x1121dc990>"
            ]
          },
          "metadata": {}
        },
        {
          "output_type": "stream",
          "name": "stdout",
          "text": [
            "(0, 'control')\n",
            "(1, 'identity_selection')\n",
            "(2, 'identity_signaling')\n",
            "(3, 'intergroup_competition')\n",
            "(4, 'interpersonal_communication')\n",
            "(5, 'intragroup_competition')\n",
            "(6, 'population_size')\n",
            "(7, 'relative_deprivation')\n",
            "(8, 'rounds')\n",
            "(9, 'scarcity')\n"
          ]
        }
      ],
      "execution_count": 8,
      "metadata": {}
    },
    {
      "cell_type": "markdown",
      "source": [
        "## Predictions 3: Leach et al. (2008) survey\n",
        "\nPredictons for the Leach et al. (2008) survey:"
      ],
      "metadata": {}
    },
    {
      "cell_type": "code",
      "source": [
        "def ratio2leach(ratio, mn=1, mx=7):\n",
        "    return mn + (mx - mn) * (1.0 / (1 + math.exp(-0.5 * ratio)))\n",
        "\n\n",
        "def plot_leach(results):\n",
        "    fig, ax = plt.subplots()\n",
        "    means = [results[cnd] for cnd in sorted(results.iterkeys())]\n",
        "    idxs = np.arange(len(results))\n",
        "    rects1 = ax.bar(idxs, means, 0.85, color='k')\n",
        "    ax.set_ylim([1, 7])\n",
        "    plt.axhline(y=0, color='k', linestyle='-')\n",
        "    ax.spines['right'].set_visible(False)\n",
        "    ax.spines['top'].set_visible(False)\n",
        "    ax.set_xticks(idxs)\n",
        "    plt.ylabel(\"Average Leach et al. (2008) survey response\")\n",
        "    fig.savefig(\"leach.pdf\", bbox_inches='tight')\n",
        "    plt.show()"
      ],
      "outputs": [],
      "execution_count": 9,
      "metadata": {}
    },
    {
      "cell_type": "code",
      "source": [
        "import pprint \n",
        "results = {}\n",
        "for condition in data:\n",
        "    ratio = float(data[condition][1]) / float(100 - data[condition][1])\n",
        "    results[condition] = ratio2leach(math.log(ratio, 2))\n",
        "   \n",
        "pprint.pprint(results, indent=4)"
      ],
      "outputs": [
        {
          "output_type": "stream",
          "name": "stdout",
          "text": [
            "{   'control': 4.0865838603447555,\n",
            "    'identity_selection': 4.0,\n",
            "    'identity_signaling': 4.0865838603447555,\n",
            "    'intergroup_competition': 4.216751619214994,\n",
            "    'interpersonal_communication': 4.0865838603447555,\n",
            "    'intragroup_competition': 4.173301002683708,\n",
            "    'population_size': 4.260286395264398,\n",
            "    'relative_deprivation': 4.0865838603447555,\n",
            "    'rounds': 4.0,\n",
            "    'scarcity': 4.0865838603447555}\n"
          ]
        }
      ],
      "execution_count": 10,
      "metadata": {}
    },
    {
      "cell_type": "code",
      "source": [
        "plot_leach(results)\n",
        "print_conditions(results)"
      ],
      "outputs": [
        {
          "output_type": "display_data",
          "data": {
            "image/png": "[encoded data removed]",
            "text/plain": [
              "<matplotlib.figure.Figure at 0x1122ef610>"
            ]
          },
          "metadata": {}
        },
        {
          "output_type": "stream",
          "name": "stdout",
          "text": [
            "(0, 'control')\n",
            "(1, 'identity_selection')\n",
            "(2, 'identity_signaling')\n",
            "(3, 'intergroup_competition')\n",
            "(4, 'interpersonal_communication')\n",
            "(5, 'intragroup_competition')\n",
            "(6, 'population_size')\n",
            "(7, 'relative_deprivation')\n",
            "(8, 'rounds')\n",
            "(9, 'scarcity')\n"
          ]
        }
      ],
      "execution_count": 11,
      "metadata": {}
    },
    {
      "cell_type": "code",
      "source": [],
      "outputs": [],
      "execution_count": null,
      "metadata": {
        "collapsed": false,
        "outputHidden": false,
        "inputHidden": false
      }
    }
  ],
  "metadata": {
    "kernelspec": {
      "name": "python2",
      "language": "python",
      "display_name": "Python 2"
    },
    "kernel_info": {
      "name": "python2"
    },
    "language_info": {
      "mimetype": "text/x-python",
      "nbconvert_exporter": "python",
      "name": "python",
      "pygments_lexer": "ipython2",
      "version": "2.7.13",
      "file_extension": ".py",
      "codemirror_mode": {
        "version": 2,
        "name": "ipython"
      }
    }
  },
  "nbformat": 4,
  "nbformat_minor": 4
}