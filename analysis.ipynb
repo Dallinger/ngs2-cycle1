{
  "cells": [
    {
      "cell_type": "markdown",
      "source": [
        "# NGS2 Cycle 1: data"
      ],
      "metadata": {}
    },
    {
      "cell_type": "code",
      "source": [
        "import dallinger\n",
        "\ndata = dallinger.data.load(\"8d63d406-fc09-8f20-f3c5-867123e0c173\")"
      ],
      "outputs": [],
      "execution_count": 4,
      "metadata": {
        "collapsed": false,
        "outputHidden": false,
        "inputHidden": false
      }
    },
    {
      "cell_type": "code",
      "source": [],
      "outputs": [],
      "execution_count": null,
      "metadata": {
        "collapsed": false,
        "outputHidden": false,
        "inputHidden": false
      }
    }
  ],
  "metadata": {
    "kernelspec": {
      "name": "python2",
      "language": "python",
      "display_name": "Python 2"
    },
    "kernel_info": {
      "name": "python2"
    },
    "language_info": {
      "mimetype": "text/x-python",
      "nbconvert_exporter": "python",
      "name": "python",
      "pygments_lexer": "ipython2",
      "version": "2.7.13",
      "file_extension": ".py",
      "codemirror_mode": {
        "version": 2,
        "name": "ipython"
      }
    }
  },
  "nbformat": 4,
  "nbformat_minor": 4
}